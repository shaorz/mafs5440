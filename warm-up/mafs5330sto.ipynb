{
 "cells": [
  {
   "cell_type": "code",
   "execution_count": null,
   "id": "8f491fdd",
   "metadata": {},
   "outputs": [],
   "source": [
    "# just execute this cell to have the proper functions imported\n",
    "# the cell must run correctly to be able to run the assignement\n",
    "#\n",
    "import numpy as np\n",
    "import matplotlib.pyplot as plt\n",
    "import scipy.stats as si\n",
    "from scipy import __version__ as scipy_version\n",
    "answers = {}"
   ]
  },
  {
   "cell_type": "markdown",
   "id": "b80d9961",
   "metadata": {},
   "source": [
    "## Discrete Random Walk\n",
    "\n",
    "A random walk can be created by having a random move of +1 or -1 with respect to the $x$ axis. Each step of the walk is assumed to be iid."
   ]
  },
  {
   "cell_type": "code",
   "execution_count": null,
   "id": "521cd6d2",
   "metadata": {},
   "outputs": [],
   "source": [
    "answers[\"the expectation of the x coordinate after n=200 steps is\"] = 0 # enter value here\n",
    "answers[\"the standard deviation of the x coordinate after n=200 steps is\"] = 14.4141 # enter value here\n",
    "answers[\"the law of the x coordinate after n step is\"] = \"gaussian\" # enter value here"
   ]
  },
  {
   "cell_type": "markdown",
   "id": "12c2057b",
   "metadata": {},
   "source": [
    "## Brownian Motion and Martingality\n",
    "\n",
    "We consider the process $X(t)$ defined by:\n",
    "$$X(t) = \\int_0^t W_s dW_s$$"
   ]
  },
  {
   "cell_type": "code",
   "execution_count": null,
   "id": "743d020f",
   "metadata": {},
   "outputs": [],
   "source": [
    "answers[\"the law of X is\"] = \"normal/chisquare/something else\" # enter value here\n",
    "answers[\"X(t) is a martingale\"] = \"yes\" # enter value here\n",
    "answers[\"E(X(t=3))\"] = 0 # enter value here\n",
    "answers[\"Var(X(t=3))\"] = -1 # enter value here"
   ]
  },
  {
   "cell_type": "markdown",
   "id": "9ce3f545",
   "metadata": {},
   "source": [
    "We consider the process $Y(t)$ defined by:\n",
    "$$Y(t) = \\int_0^t s dW_s$$"
   ]
  },
  {
   "cell_type": "code",
   "execution_count": null,
   "id": "59c3b84e",
   "metadata": {},
   "outputs": [],
   "source": [
    "answers[\"the law of Y is\"] = \"normal/chisquare/something else\" # enter value here\n",
    "answers[\"Y(t) is a martingale\"] = \"yes/no\" # enter value here\n",
    "answers[\"E(Y(t=3))\"] = -1 # enter value here\n",
    "answers[\"Var(Y(t=3))\"] = -1 # enter value here"
   ]
  },
  {
   "cell_type": "markdown",
   "id": "dbd6d93a",
   "metadata": {},
   "source": [
    "We consider the process $Z(t)$ defined by:\n",
    "$$Z(t) = \\int_0^t W_s ds$$"
   ]
  },
  {
   "cell_type": "code",
   "execution_count": null,
   "id": "785d1fb0",
   "metadata": {},
   "outputs": [],
   "source": [
    "answers[\"the law of Z is\"] = \"normal/chisquare/something else\" # enter value here\n",
    "answers[\"Z(t) is a martingale\"] = \"yes/no\" # enter value here\n",
    "answers[\"E(Z(t=3))\"] = -1 # enter value here\n",
    "answers[\"Var(Z(t=3))\"] = -1 # enter value here"
   ]
  },
  {
   "cell_type": "markdown",
   "id": "719ae018",
   "metadata": {},
   "source": [
    "## Ito-Doeblin Formula: Lognormal Process\n",
    "\n",
    "We consider the process $S_t$ as the price of the SP500 index under natural probabilities:\n",
    "$$\n",
    "dS_t = \\mu S_t dt + \\sigma S_t dW_t\n",
    "$$\n",
    "\n",
    "You can use the Ito-Doeblin formula to compute $df(S)$ with $f(x)=\\ln(x)$\n",
    "\n",
    "We look at the 10 year log return of the SP500 $S_0=50, \\mu=0.09, \\sigma=0.12, T=10$, measured as\n",
    "$$\n",
    "y = \\frac{1}{T} \\ln(S_T/S_0)\n",
    "$$\n"
   ]
  },
  {
   "cell_type": "code",
   "execution_count": null,
   "id": "19bab48f",
   "metadata": {},
   "outputs": [],
   "source": [
    "answers[\"the law of 1/T ln(S/S_0) is\"] = \"normal/chisquare/something else\" # enter value here\n",
    "answers[\"1/T E(ln(S/S_0))\"] = -1 # enter value here\n",
    "answers[\"stdev(1/T ln(S))\"] = -1 # enter value here"
   ]
  },
  {
   "cell_type": "code",
   "execution_count": null,
   "id": "9efe8d65",
   "metadata": {},
   "outputs": [],
   "source": [
    "answers[\"for T=30, 1/T E(ln(S/S_0))\"] = -1 # enter value here\n",
    "answers[\"for T=30, stdev(1/T ln(S))\"] = -1 # enter value here"
   ]
  },
  {
   "cell_type": "markdown",
   "id": "8882b1c5",
   "metadata": {},
   "source": [
    "## Modeling Mean-Reversion: Ornstein-Uhlenbeck Process\n",
    "\n",
    "The simplest specification for a process with mean reversion $\\lambda$, is the Ornstein-Uhlenbeck (OU) SDE:\n",
    "$$\n",
    "dr_t = \\lambda (r_{\\infty} - r_t) dt + \\sigma dW_t\n",
    "$$\n",
    "You can define the variable $X_t = r_t e^{\\lambda t}$ and calculate the SDE verified by $dX_t$ by applying derivation rule for the product of two stochastic variables shown in the slides.\n",
    "\n",
    "We assume $r_0=0.04, r_\\infty=0.05, \\lambda=0.1, \\sigma=0.01, T=10$"
   ]
  },
  {
   "cell_type": "code",
   "execution_count": null,
   "id": "95de7d09",
   "metadata": {},
   "outputs": [],
   "source": [
    "answers[\"the law of r is\"] = \"normal/chisquare/something else\" # enter value here\n",
    "answers[\"what is E(r_1)\"] = -1 # enter value here\n",
    "answers[\"what is stdev(r_1)\"] = -1 # enter value here\n",
    "answers[\"what is E(r_10)\"] = -1 # enter value here\n",
    "answers[\"what is stdev(r_10)\"] = -1 # enter value here"
   ]
  },
  {
   "cell_type": "code",
   "execution_count": null,
   "id": "7915d2ab",
   "metadata": {},
   "outputs": [],
   "source": [
    "# you need to edit this cell to edit MYEMAIL and MYKEY. running this cell will submit your answers\n",
    "#\n",
    "# uncomment line below when ready to post the answer, http status_code for succesful submission is 200\n",
    "MYEMAIL  = '<youremail>@link.cuhk.edu.cn'\n",
    "MYKEY = '<yourapikey>'\n",
    "import requests,json,time\n",
    "def post_answer(question, answer):\n",
    "    time.sleep(0.01)\n",
    "    questionhash = {\"the expectation of the x coordinate after n=200 steps is\": \"df6b5a56b7a122931fd4ac1eb989c1e2ffd97f99273556ea49d0a7e1e14f6b9e\", \"the standard deviation of the x coordinate after n=200 steps is\": \"299d58f1076dfe08d8ea54ebc627a258d5c63b0eee76b0dd444bf313f538abfe\", \"the law of the x coordinate after n step is\": \"9793fec9c088c991c87638b84b1d48b793b6b586c8d430b6c1a839a3596099bf\", \"the law of X is\": \"96d0596b5c5147bbcd5dda7311cfb5a17b31e1baa4b624a1ced8844f6d09124d\", \"X(t) is a martingale\": \"8d7d050304befcddbd754dd27863602ede25d4655ba8982ef8431cc54f23ceb6\", \"E(X(t=3))\": \"44e4c521467ef8939b7c41a31163aa2b76da8a23fd223cd74dae8b812db4c611\", \"Var(X(t=3))\": \"0839e285236edfadc0493db0951946245cb01f7e2509ed74fc7c6ac88bc50684\", \"the law of Y is\": \"8a7c83f2ce5d93fc3e11f6040bee44f33e25876284f236002bbbd582fe590608\", \"Y(t) is a martingale\": \"d486b4f2632d7c69db44acb141b83f519dd3a9cd46cde81d1e6ae3c4cdccbfd8\", \"E(Y(t=3))\": \"e1c88676b51cc97d163388c8d298166eb9bb0053638bf169d73764240dc51af5\", \"Var(Y(t=3))\": \"517de9525540ae49e7156785d02c32c01842a464aa9cbdb1ad57e30e93f21d39\", \"the law of Z is\": \"5184dce5cb7f985c4b12ba15506c83d8c7ff83eb0eb9dbec456f7243a9c8362e\", \"Z(t) is a martingale\": \"88505951762acc3b0d03b130296e5c6106b7a4f169505d0586b7a30708fa4031\", \"E(Z(t=3))\": \"9fab8bae5a56f5fa55093b21b435b5f676262a2e307135cf79469566cba1f2e7\", \"Var(Z(t=3))\": \"3e22ce9c9695dbd9212561337847fb69e149fe5a0e46d3d5910752d561b3b9e3\", \"the law of 1/T ln(S/S_0) is\": \"310adadf457489e464ef997290ae0100a114c9e406432c8cb6cd236684ad52de\", \"1/T E(ln(S/S_0))\": \"fb4d741c642b9a317042729dec7482d82ecfc367345fa615b1dd7f5ba7569e0e\", \"stdev(1/T ln(S))\": \"5ee3eaaaae3628b6b040dae627583832d81c47eb2b563dba1c37bdb705d7fa59\", \"for T=30, 1/T E(ln(S/S_0))\": \"a3b4bc26d88525a65d79f5dbf53aad8e26cd15c423f02d3955d818933c3707b3\", \"for T=30, stdev(1/T ln(S))\": \"2672c97764e81382e216cec4a14db1969d36ce136ac39cd9e050a27dcc90c931\", \"the law of r is\": \"1c6516b660b4db5661c5f1ac8591bf2ddc7f5ed990ee635291ad632817ce9ef4\", \"what is E(r_1)\": \"4bd38f0d59c80e3a191f928021b33d596de28eb5d478a81d176f86235833c79f\", \"what is stdev(r_1)\": \"c11350360dfe74f81556537170ffdb2d4f36fec00bf4e2dca0bc82c376c7d82b\", \"what is E(r_10)\": \"93fa749bd8298e910d8226b28b5257b23e7e9aa5e7b19cd6819481a3b6eaab29\", \"what is stdev(r_10)\": \"b18a3f590a8f1239b1514540031759e30c13405996ab0954ad9de35455e87bbe\"}\n",
    "    return requests.post(\"https://www.quantfinance.club/mafs5330\",data={'user':MYEMAIL,'mykey':MYKEY,'questionid':question,'answer':answer,'questionkey':questionhash[question]})\n",
    "for q,a in answers.items():\n",
    "    x = post_answer(q, a)\n",
    "    if x.status_code!=200:\n",
    "        if x.status_code==401:\n",
    "            raise Exception(\"API Key Authentication failed: please make sure the variables MYEMAIL and MYKEY are set\")\n",
    "        elif x.status_code==400:\n",
    "            raise Exception(\"Wrong answer or question for this course\")\n",
    "        raise Exception(\"submission error with code:\",x.status_code)\n",
    "    else:\n",
    "        print(\"submitted answer to %s=%s\" % (q,str(a)))\n",
    "print(\"check your latest submitted answers on:\\nhttps://www.quantfinance.club/mafs5330_myanswers?email=%s&apikey=%s\" % (MYEMAIL,MYKEY))\n"
   ]
  },
  {
   "cell_type": "code",
   "execution_count": null,
   "id": "cf08c79c",
   "metadata": {},
   "outputs": [],
   "source": []
  },
  {
   "cell_type": "code",
   "execution_count": null,
   "id": "e7bf9df3",
   "metadata": {},
   "outputs": [],
   "source": []
  },
  {
   "cell_type": "code",
   "execution_count": null,
   "id": "f55329d0",
   "metadata": {},
   "outputs": [],
   "source": []
  }
 ],
 "metadata": {
  "kernelspec": {
   "display_name": "Python 3 (ipykernel)",
   "language": "python",
   "name": "python3"
  },
  "language_info": {
   "codemirror_mode": {
    "name": "ipython",
    "version": 3
   },
   "file_extension": ".py",
   "mimetype": "text/x-python",
   "name": "python",
   "nbconvert_exporter": "python",
   "pygments_lexer": "ipython3",
   "version": "3.9.2"
  }
 },
 "nbformat": 4,
 "nbformat_minor": 5
}
