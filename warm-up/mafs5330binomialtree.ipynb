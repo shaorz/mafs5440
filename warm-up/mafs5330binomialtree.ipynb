{
 "cells": [
  {
   "cell_type": "code",
   "execution_count": 1,
   "id": "11ea98d9",
   "metadata": {},
   "outputs": [],
   "source": [
    "# just execute this cell to have the proper functions imported\n",
    "# the cell must run correctly to be able to run the assignement\n",
    "#\n",
    "import numpy as np\n",
    "import matplotlib.pyplot as plt\n",
    "import scipy.stats as si\n",
    "answers = {}"
   ]
  },
  {
   "cell_type": "markdown",
   "id": "b4b7ec42",
   "metadata": {},
   "source": [
    "# One Period Binomial Model\n",
    "\n",
    "God speaks to you in a dream and tells you that a stock will be worth either 105 or 92 in 6 month. \n",
    "\n",
    "You wake up and decide to arb the option market. First, you compute the hedge ratio for an option with a strike of 100...\n",
    "\n"
   ]
  },
  {
   "cell_type": "code",
   "execution_count": 5,
   "id": "b11bedb8",
   "metadata": {},
   "outputs": [
    {
     "name": "stdout",
     "output_type": "stream",
     "text": [
      "Hedge ratio is 0.384615\n"
     ]
    }
   ],
   "source": [
    "# Edit the line as instructed for proper answer in this cell\n",
    "#\n",
    "Su,Sd,K= 105, 92, 100\n",
    "Vu,Vd = max(Su-K,0), max(Sd-K,0)\n",
    "hedgeratio = ( Vu - Vd )/( Su - Sd ) # <----- edit this line to put the proper hedge ratio\n",
    "print(\"Hedge ratio is %f\" % hedgeratio)\n",
    "answers[\"one period model hedge ratio is\"] = hedgeratio"
   ]
  },
  {
   "cell_type": "markdown",
   "id": "40c82c69",
   "metadata": {},
   "source": [
    "### Pricing the option and checking price is right\n",
    "\n",
    "You check the market, the spot price is 100, and you can borrow at 5.5%\n",
    "\n",
    "- you check that the value of the porfolio $P_T = V_T - h S_T$ is the same in up and down state. It is risk free w.r. to moves of the underlying $S$\n",
    "- you check the discounted expected value $P_0 = e^{-rT} P_T$ of the replcating portfolio\n",
    "- you compute the probability and expected value of the payoff\n"
   ]
  },
  {
   "cell_type": "code",
   "execution_count": 11,
   "id": "bf5da80a",
   "metadata": {},
   "outputs": [
    {
     "name": "stdout",
     "output_type": "stream",
     "text": [
      "replicating portfolio forward value: Pu=-35.384615, Pd=-35.384615\n",
      "no arb call from portfolio replication=4.036742\n",
      "Pr(up)=0.829859, Pr(down)=0.170141, call from risk neutral expectation=4.036742\n"
     ]
    }
   ],
   "source": [
    "# Edit the lines as instructed for proper answer in this cell\n",
    "#\n",
    "S, r, T = 100, 0.055, 0.5\n",
    "\n",
    "Pu = Vu - hedgeratio * Su\n",
    "Pd = Vd - hedgeratio * Sd # <--- edit this line to make sure the computation is correct\n",
    "answers[\"the value of replicating portfolio Pd is\"] = Pd\n",
    "print(\"replicating portfolio forward value: Pu=%f, Pd=%f\" % (Pu,Pd))\n",
    "P = Pu * np.exp(-r * T)\n",
    "\n",
    "V = P + hedgeratio * S\n",
    "print(\"no arb call from portfolio replication=%f\" % (V))\n",
    "F = S*np.exp(r*T)\n",
    "\n",
    "p = (F-Sd)/(Su-Sd)  # <-- edit this line to make sure the calculation is correct\n",
    "answers[\"the value of risk neutral p is\"] = p\n",
    "\n",
    "call = np.exp( -r * T ) * ( p * Vu + ( 1 - p ) * Vd )\n",
    "print(\"Pr(up)=%f, Pr(down)=%f, call from risk neutral expectation=%f\" % (p,1-p,call))"
   ]
  },
  {
   "cell_type": "markdown",
   "id": "d5e7db21",
   "metadata": {},
   "source": [
    "### Check Against Black Scholes formula: \n",
    "\n",
    "The function below computes $c=E(e^{-rT}\\max(S_T-K,0)$ $p=E(e^{-rT}\\max(K-S_T,0)$ \n",
    "\n",
    "Under the usual Black Scholes Model assumptions that the equity price $S$ follow the diffusion $$\\frac{dS}{S} = rdt + \\sigma dW_t$$\n",
    "\n",
    "If a reasonnable value of volatility is 15%, you want to check the call price under this assumption\n"
   ]
  },
  {
   "cell_type": "code",
   "execution_count": 13,
   "id": "b5a776ea",
   "metadata": {},
   "outputs": [
    {
     "name": "stdout",
     "output_type": "stream",
     "text": [
      "black-scholes model call=5.667649\n"
     ]
    }
   ],
   "source": [
    "# Edit the line as instructed for proper answer in this cell\n",
    "#\n",
    "\n",
    "def black_scholes_premium(S, K, T, r, sigma):\n",
    "    df = np.exp(-r * T) \n",
    "    if T<1e-8 or sigma<1e-8:\n",
    "        call = max(S-K*df, 0.)\n",
    "        vega = 0\n",
    "    else:\n",
    "        sqt = np.sqrt(T)\n",
    "        d1 = (np.log(S / K) + (r + 0.5 * sigma ** 2) * T) / (sigma * sqt)\n",
    "        d2 = d1 - sigma * sqt\n",
    "        call = S * si.norm.cdf(d1, 0.0, 1.0) - K * si.norm.cdf(d2, 0.0, 1.0) * df\n",
    "        #vega = S * si.norm.pdf(d1, 0.0, 1.0) * sqt \n",
    "        delta = si.norm.cdf(d1, 0.0, 1.0)\n",
    "    put  =  call + K*df-S # use call-put parity for the put\n",
    "    return call, put, delta\n",
    "\n",
    "sigma = 0.15\n",
    "callbsm,_,deltabsm = black_scholes_premium(S, K, T, r, sigma)\n",
    "print(\"black-scholes model call=%f\" % callbsm)\n",
    "#\n",
    "# The binomial two states Su=105 Sd=92 look wide or narrow compared to BSM with 15% volatility?\n",
    "answers[\"answer either wide or narrow\"] = \"narrow\" # <--- edit this line to answer either \"wide\" or \"narrow\""
   ]
  },
  {
   "cell_type": "markdown",
   "id": "6e42ce2b",
   "metadata": {},
   "source": [
    "## Implicit Binomial Model\n",
    "\n",
    "We can ask another question:\n",
    "\n",
    "Given an option price we observe on the market, what can be a binomial model implied by it?\n",
    "\n",
    "The call price in the binomial model was given by:\n",
    "$$c = e^{-rT} (p V_u + (1-p) V_d)$$\n",
    "For an ATM call, the down state will be below strike, and the up state will be positive $V_d = 0, V_u = Su-K$ we have:\n",
    "$$c = e^{-rT} p (Su-K)$$\n",
    "Here, we must make an assumption on the relation between $u$ and $d$. We use $d=1/u$, therefore we have $p = \\frac{e^{rt}-d}{u-d}=\\frac{ue^{rt}-1}{u^2-1}$:\n",
    "$$e^{rT} c (u^2-1) = (u e^{rt}-1) (Su-K)$$\n",
    "which looks like a quadratic polynomial equation in $u$:\n",
    "$$e^{rT} (c-S) u^2 + (S+Ke^{rT}) u - K - e^{rT} c = 0 $$\n",
    "If the one period model is already giving a quadratic equation, imagine the $n$ period model."
   ]
  },
  {
   "cell_type": "code",
   "execution_count": 14,
   "id": "745da87e",
   "metadata": {},
   "outputs": [
    {
     "name": "stdout",
     "output_type": "stream",
     "text": [
      "check BSM call=5.667649, binomial=5.667649\n",
      "the values consistent with BSM are Su=109.140836, Sd=91.624733 p=0.637324\n"
     ]
    }
   ],
   "source": [
    "# Edit the line as instructed for proper answer in this cell\n",
    "#\n",
    "a = np.exp(r*T)*(callbsm-S)\n",
    "b = S+K*np.exp(r*T)\n",
    "c = -K-callbsm*np.exp(r*T)\n",
    "Delta = b**2-4*a*c\n",
    "u = (-b-np.sqrt(Delta))/(2*a) # quadratic equation solution such that u>1\n",
    "\n",
    "p = (u*np.exp(r*T)-1)/(u**2-1) # risk neutral probability up\n",
    "d = 1/u # assumed down movement\n",
    "print(\"check BSM call=%f, binomial=%f\" % (callbsm,np.exp(-r*T)*p*(S*u-K)))\n",
    "print(\"the values consistent with BSM are Su=%f, Sd=%f p=%f\" % (S*u,S*d,p))\n",
    "answers[\"does this calculation confirm the intuitive answer of wide or narrows above\"] = \"yes\" # <-- answer yes or no"
   ]
  },
  {
   "cell_type": "markdown",
   "id": "37e4fe85",
   "metadata": {},
   "source": [
    "### Black-Scholes Model vs 1 period Binomial model Risk\n",
    "\n",
    "In the above cell, we fitted a binomial model to the price given by a Black-Scholes formula.\n",
    "\n",
    "How does the hedge ratio given by binomial model and black-scholes delta differ?"
   ]
  },
  {
   "cell_type": "code",
   "execution_count": 15,
   "id": "68558035",
   "metadata": {},
   "outputs": [
    {
     "name": "stdout",
     "output_type": "stream",
     "text": [
      "hedge ratio implicit with fitted binomial model=0.521853, BSM delta=0.622596\n"
     ]
    }
   ],
   "source": [
    "# Edit the line as instructed for proper answer in this cell\n",
    "#\n",
    "fittedbinomialhedgeratio = (max(S*u-K,0)-max(S*d-K,0))/(S*(u-d))\n",
    "print(\"hedge ratio implicit with fitted binomial model=%f, BSM delta=%f\" % (fittedbinomialhedgeratio,deltabsm))\n",
    "answers[\"BSM and binomial model give different risk when fitted to same price\"] = \"yes\" # <--- answer yes or no"
   ]
  },
  {
   "cell_type": "markdown",
   "id": "8bbabebf",
   "metadata": {},
   "source": [
    "# Multi Period Binomial Tree Pricer\n",
    "\n",
    "These trees are usually coded in a faster language than python. \n",
    "\n",
    "- The binomial tree below takes the payoff as function parameter\n",
    "- The code supports european and american options, looks at what the code does if american\n"
   ]
  },
  {
   "cell_type": "code",
   "execution_count": 17,
   "id": "bdeebdc4",
   "metadata": {},
   "outputs": [
    {
     "name": "stdout",
     "output_type": "stream",
     "text": [
      "binomial tree with european put payoff=max(K-S)\n"
     ]
    },
    {
     "data": {
      "image/png": "[encoded data removed]",
      "text/plain": [
       "<Figure size 640x480 with 1 Axes>"
      ]
     },
     "metadata": {},
     "output_type": "display_data"
    }
   ],
   "source": [
    "# Edit the lines below as instructed for proper answer in this cell\n",
    "#\n",
    "# ---------------------------------------------------------------------------\n",
    "# binomial_tree_pricer\n",
    "# parameters:\n",
    "# r: risk neutral rate\n",
    "# q: dividend yield\n",
    "# sigma: volatility\n",
    "# T: maturity in years\n",
    "# n: number of time steps\n",
    "# S: spot stock price\n",
    "# payoff: payoff function e.g.: lambda S: max(S-K,0)\n",
    "# american: early exercise: True if american, otherwise European\n",
    "# showStatePrices: print tree probabilities and state prices\n",
    "def binomial_tree_pricer(r,q,sigma,T,n,S,payoff,american=True,showStatePrices=False):\n",
    "    dt = T/n\n",
    "    up  = np.exp(sigma*np.sqrt(dt))\n",
    "    p0 = (up * np.exp((r-q) * dt) - 1) / (up**2 - 1) \n",
    "    p1 = 1 - p0\n",
    "    df = np.exp(-r * dt)\n",
    "    # initial values at time T\n",
    "    statePrices = {\"p\":p0,\"u\":up,\"r\":r,\"q\":q,\"dt\":dt}\n",
    "    if showStatePrices:\n",
    "        statePrices[\"option\"] = \"american\" if american else \"european\"\n",
    "        statePrices[\"payoff\"]=np.zeros((n+1,n+1))\n",
    "        statePrices[\"underlying\"]=np.zeros((n+1,n+1))\n",
    "    p = np.zeros(n+1)\n",
    "    for i in range(n+1): # i from 0 to n incl\n",
    "        p[i] = payoff(S * up**(2*i - n))\n",
    "        if showStatePrices:\n",
    "            statePrices[\"payoff\"][n][i] = p[i]\n",
    "            statePrices[\"underlying\"][n][i] = S * up**(2*i - n)\n",
    "    # move to earlier times\n",
    "    for j in range(n-1,-1,-1): # j from n-1 to 0 incl\n",
    "        for i in range(j+1): # i from 0 to j incl\n",
    "            # discounted expected value of exdiv price\n",
    "            p[i] = (p0 * p[i+1] + p1 * p[i])*df\n",
    "            # american payoff\n",
    "            if american:\n",
    "                early_exercise = payoff(S * up**(2*i - j))\n",
    "                p[i] = max(early_exercise,p[i])\n",
    "            if showStatePrices:\n",
    "                statePrices[\"payoff\"][j][i] = p[i]\n",
    "                statePrices[\"underlying\"][j][i] = S * up**(2*i - j)\n",
    "    if showStatePrices:\n",
    "        plot_binomial_tree(statePrices)\n",
    "    return p[0]\n",
    "def plot_binomial_tree(statePrices):\n",
    "    for i in range(0,n+1):\n",
    "        for j in range(0,n+1):\n",
    "            if j>i:\n",
    "                break\n",
    "            if i<n:\n",
    "                x1, y1 = [i, i+1], [2*j-(i-1),2*j+1-(i-1)]\n",
    "                plt.plot(x1, y1, marker = 'o',color=\"red\")\n",
    "                x1, y1 = [i, i+1], [2*j-(i-1),2*j-1-(i-1)]\n",
    "                plt.plot(x1, y1, marker = 'o',color=\"black\")\n",
    "            if (i==2 and j==2) or (i==3 and j==1):\n",
    "                continue\n",
    "            plt.text(i-0.2,2*j-(i-1)-0.6,\"%.5f\" % statePrices[\"payoff\"][i][j])\n",
    "            plt.text(i-0.2,2*j-(i-1)-1.0,\"%.4f\" % statePrices[\"underlying\"][i][j],color=\"blue\")\n",
    "    plt.title(\"Binomial Tree (%s)\" % statePrices[\"option\"])\n",
    "    plt.xlabel(\"p=%.4f%% u=%.5f r=%.1f%% q=%.1f%%, dt=%.5fdays\" % (statePrices[\"p\"]*100,\n",
    "                                                                   statePrices[\"u\"],\n",
    "                                                                   statePrices[\"r\"]*100,\n",
    "                                                                   statePrices[\"q\"]*100,\n",
    "                                                                   statePrices[\"dt\"]*365))\n",
    "    #plt.savefig(\"binomial_missing.jpg\")\n",
    "    #plt.close()\n",
    "    plt.show()\n",
    "r,q,sigma,T,n,S = 0.05, 0.02, 0.15, 1/12, 5, 50\n",
    "K = S*1.01\n",
    "print(\"binomial tree with european put payoff=max(K-S)\")\n",
    "option = binomial_tree_pricer(r,q,sigma,T,n,S,lambda S: max(K-S,0),american=False,showStatePrices=True)\n",
    "answers[\"the underlying price is shown in\"] = \"blue\" # <-- answer either \"black\" or \"blue\"\n",
    "answers[\"the european put value at time step 2 in the all up scenario is\"] = 0 # <-- read the value from diagram below\n",
    "answers[\"the european put value at time step 2 in the all down scenario is\"] = 2.38395 # <-- read the value from diagram below\n"
   ]
  },
  {
   "cell_type": "markdown",
   "id": "116b02bf",
   "metadata": {},
   "source": [
    "### American Option Pricing\n",
    "\n",
    "Look again at what the code does when american is set to True.\n",
    "\n",
    "The value of the option at any date $t \\in [0,T]$ is taken as the max of:\n",
    "- an exercise value at S-K at $t$\n",
    "- a continuation value where we keep the option for future times $u, t<u<T$\n",
    "\n",
    "Pricing is done backward from $t=T$ and computing discounting expected value back to $t=0$\n"
   ]
  },
  {
   "cell_type": "code",
   "execution_count": null,
   "id": "6f44f7eb",
   "metadata": {},
   "outputs": [
    {
     "name": "stdout",
     "output_type": "stream",
     "text": [
      "binomial tree with american put payoff=max(K-S)\n"
     ]
    }
   ],
   "source": [
    "# Edit the lines below as instructed for proper answer in this cell\n",
    "#\n",
    "print(\"binomial tree with american put payoff=max(K-S)\")\n",
    "binomial_tree_pricer(r,q,sigma,T,n,S,lambda S: max(K-S,0),american=True,showStatePrices=True)\n",
    "answers[\"the american put value at time step 2 in the all up scenario is\"] = 0 # <-- read the value from diagram below\n",
    "answers[\"the american put value at time step 2 in the all down scenario is\"] = 2.41632 # <-- read the value from diagram below\n",
    "n = 300"
   ]
  },
  {
   "cell_type": "markdown",
   "id": "b475c1bb",
   "metadata": {},
   "source": [
    "### Numerical convergence \n",
    "\n",
    "The fist thing to assess is the numerical convergence of the binomial tree pricer towards the black-scholes formula as $n \\rightarrow \\infty, \\Delta t \\rightarrow 0$.\n",
    "\n",
    "Your manager asks you to chose a number of steps $n$, what do you chose?"
   ]
  },
  {
   "cell_type": "code",
   "execution_count": null,
   "id": "10fa9db2",
   "metadata": {
    "scrolled": true
   },
   "outputs": [],
   "source": [
    "# Edit the line below as instructed for proper answer in this cell\n",
    "#\n",
    "import datetime as dt\n",
    "call,put,_ = black_scholes_premium(S*np.exp(-q*T), K, T, r, sigma)\n",
    "nbs = [1,2,3,4,5,10,50,75,100,200,500,1000,2000]\n",
    "err,elapsed = {},{}\n",
    "for n in nbs:\n",
    "    ts = dt.datetime.now()\n",
    "    err[n] = np.log10(np.abs((call-binomial_tree_pricer(r,q,sigma,T,n,S,lambda S: max(S-K,0),american=False))/K))\n",
    "    elapsed[n] = np.log10((dt.datetime.now()-ts).total_seconds())\n",
    "n = 300\n",
    "fig, ax1 = plt.subplots()\n",
    "ax2 = ax1.twinx()\n",
    "ax2.plot(elapsed.values(),label=\"elapsed\",color=\"orange\")\n",
    "ax2.set_ylabel(\"log10 seconds elapsed\")\n",
    "ax1.plot(err.values(),label=\"error relative to spot\")\n",
    "ax1.axhline(y=np.log10(call/S),color=\"red\",label=\"option price\")\n",
    "ax1.set_xlabel(\"nb of time steps\")\n",
    "ax1.set_ylabel(\"log10 relative error\")\n",
    "ax = plt.gca()\n",
    "ax.set(xticks=range(len(nbs)), xticklabels=nbs)\n",
    "ax1.legend(loc=\"upper left\")\n",
    "ax2.legend(loc=\"lower left\")\n",
    "plt.title(\"Binomial Tree Convergence\")\n",
    "plt.show()\n",
    "answers[\"what value of n do you recommend\"] = np.nan # <-- enter the value you recommend"
   ]
  },
  {
   "cell_type": "markdown",
   "id": "6ce7c185",
   "metadata": {},
   "source": [
    "### Comparing calls and puts when there is a dividend yield\n",
    "\n",
    "we now compare european and american option prices"
   ]
  },
  {
   "cell_type": "code",
   "execution_count": null,
   "id": "04246ab3",
   "metadata": {},
   "outputs": [],
   "source": [
    "# Edit the line below as instructed for proper answer in this cell\n",
    "#\n",
    "print(\"risk neutral r=%f dividend yield q=%f\" % (r,q))\n",
    "call,put,_ = black_scholes_premium(S*np.exp(-q*T), K, T, r, sigma)\n",
    "print(\"black-scholes formula call=%f put=%f\" % (call,put))\n",
    "print(\"european call binomial=%f\"%binomial_tree_pricer(r,q,sigma,T,n,S,lambda S: max(S-K,0),american=False))\n",
    "print(\"american call binomial=%f\"%binomial_tree_pricer(r,q,sigma,T,n,S,lambda S: max(S-K,0),american=True))\n",
    "print(\"european put binomial=%f\"%binomial_tree_pricer(r,q,sigma,T,n,S,lambda S: max(K-S,0),american=False))\n",
    "print(\"american put binomial=%f\"%binomial_tree_pricer(r,q,sigma,T,n,S,lambda S: max(K-S,0),american=True))\n",
    "answers[\"american calls have higher, lower or same value as european for r>0,q>0\"] = \"\"  # <--- answer higher, lower or same\n",
    "answers[\"american puts have higher, lower or same value as european for r>0,q>0\"] = \"\"  # <--- answer higher, lower or same"
   ]
  },
  {
   "cell_type": "code",
   "execution_count": null,
   "id": "201949c8",
   "metadata": {},
   "outputs": [],
   "source": [
    "# Edit the line below as instructed for proper answer in this cell\n",
    "#\n",
    "q = 0.00\n",
    "print(\"risk neutral r=%f dividend yield q=%f\" % (r,q))\n",
    "call,put,_ = black_scholes_premium(S*np.exp(-q*T), K, T, r, sigma)\n",
    "print(\"black-scholes formula call=%f put=%f\" % (call,put))\n",
    "print(\"european call binomial=%f\"%binomial_tree_pricer(r,q,sigma,T,n,S,lambda S: max(S-K,0),american=False))\n",
    "print(\"american call binomial=%f\"%binomial_tree_pricer(r,q,sigma,T,n,S,lambda S: max(S-K,0),american=True))\n",
    "print(\"european put binomial=%f\"%binomial_tree_pricer(r,q,sigma,T,n,S,lambda S: max(K-S,0),american=False))\n",
    "print(\"american put binomial=%f\"%binomial_tree_pricer(r,q,sigma,T,n,S,lambda S: max(K-S,0),american=True))\n",
    "answers[\"american calls have higher, lower or same value as european for r>0,q=0\"] = \"\"  # <--- answer higher, lower or same\n",
    "answers[\"american puts have higher, lower or same value as european for r>0,q=0\"] = \"\"  # <--- answer higher, lower or same"
   ]
  },
  {
   "cell_type": "code",
   "execution_count": null,
   "id": "8034de61",
   "metadata": {},
   "outputs": [],
   "source": [
    "# Edit the line below as instructed for proper answer in this cell\n",
    "#\n",
    "r = 0.00\n",
    "print(\"risk neutral r=%f dividend yield q=%f\" % (r,q))\n",
    "call,put,_ = black_scholes_premium(S*np.exp(-q*T), K, T, r, sigma)\n",
    "print(\"black-scholes formula call=%f put=%f\" % (call,put))\n",
    "print(\"european call binomial=%f\"%binomial_tree_pricer(r,q,sigma,T,n,S,lambda S: max(S-K,0),american=False))\n",
    "print(\"american call binomial=%f\"%binomial_tree_pricer(r,q,sigma,T,n,S,lambda S: max(S-K,0),american=True))\n",
    "print(\"european put binomial=%f\"%binomial_tree_pricer(r,q,sigma,T,n,S,lambda S: max(K-S,0),american=False))\n",
    "print(\"american put binomial=%f\"%binomial_tree_pricer(r,q,sigma,T,n,S,lambda S: max(K-S,0),american=True))\n",
    "answers[\"american calls have higher, lower or same value as european for r=0,q=0\"] = \"\"  # <--- answer higher, lower or same\n",
    "answers[\"american puts have higher, lower or same value as european for r=0,q=0\"] = \"\"  # <--- answer higher, lower or same"
   ]
  },
  {
   "cell_type": "markdown",
   "id": "082c3e9e",
   "metadata": {},
   "source": [
    "# Discrete Dividends"
   ]
  },
  {
   "cell_type": "code",
   "execution_count": null,
   "id": "74e0a30e",
   "metadata": {},
   "outputs": [],
   "source": [
    "# run this cell, no need to edit it\n",
    "#\n",
    "# ---------------------------------------------------------------------------\n",
    "# binomial_tree_pricer\n",
    "# parameters:\n",
    "# r: risk neutral rate\n",
    "# div: dictionary div[t] = amount <-- where t is the time to exdiv date in years\n",
    "# sigma: volatility\n",
    "# T: maturity in years\n",
    "# n: number of time steps\n",
    "# S: spot stock price\n",
    "# payoff: payoff function e.g.: lambda S: max(S-K,0)\n",
    "# american: early exercise: True if american, otherwise European\n",
    "# showArrowDebreu: print tree probabilities and state prices\n",
    "def binomial_tree_divpricer(r,div,sigma,T,n,S,payoff,american=True,showStatePrices=False):\n",
    "    dt = T/n\n",
    "    sumdiv, dividx = 0, {}\n",
    "    for t,amt in div.items():\n",
    "        if t<=T:\n",
    "            dividx[int(round(t/dt))] = amt\n",
    "            sumdiv += amt\n",
    "        else:\n",
    "            print(\"WARN: div input is %f but expiry is %f\" % (t,T))\n",
    "    up  = np.exp(sigma*np.sqrt(dt))\n",
    "    p0 = (up * np.exp(r*dt) - 1) / (up**2 - 1) \n",
    "    p1 = 1 - p0\n",
    "    df = np.exp(-r * dt)\n",
    "    # initial values at time T\n",
    "    statePrices = {\"p\":p0,\"u\":up,\"r\":r,\"q\":q,\"dt\":dt}\n",
    "    if showStatePrices:\n",
    "        statePrices[\"option\"] = \"american\" if american else \"european\"\n",
    "        statePrices[\"payoff\"]=np.zeros((n+1,n+1))\n",
    "        statePrices[\"underlying\"]=np.zeros((n+1,n+1))\n",
    "    p = np.zeros(n+1)\n",
    "    for i in range(n+1): # i from 0 to n incl\n",
    "        p[i] = payoff(S * up**(2*i - n) - sumdiv)\n",
    "        if showStatePrices:\n",
    "            statePrices[\"payoff\"][n][i] = p[i]\n",
    "            statePrices[\"underlying\"][n][i] = S * up**(2*i - n) - sumdiv\n",
    "    # move to earlier times\n",
    "    for j in range(n-1,-1,-1): # j from n-1 to 0 incl\n",
    "        if j in dividx.keys():\n",
    "            sumdiv -= dividx[j]\n",
    "        for i in range(j+1): # i from 0 to j incl\n",
    "            # discounted expected value of exdiv price\n",
    "            p[i] = (p0 * p[i+1] + p1 * p[i])*df\n",
    "            # american payoff\n",
    "            if american:\n",
    "                early_exercise = payoff(S * up**(2*i - j) - sumdiv)\n",
    "                p[i] = max(early_exercise,p[i])\n",
    "            if showStatePrices:\n",
    "                statePrices[\"payoff\"][j][i] = p[i]\n",
    "                statePrices[\"underlying\"][j][i] = S * up**(2*i - j)- sumdiv\n",
    "    if showStatePrices:\n",
    "        plot_binomial_tree(statePrices)\n",
    "    return p[0]\n"
   ]
  },
  {
   "cell_type": "markdown",
   "id": "52abeddc",
   "metadata": {},
   "source": [
    "### Impact of discrete dividends on early exercise for calls and puts"
   ]
  },
  {
   "cell_type": "code",
   "execution_count": null,
   "id": "556079b7",
   "metadata": {},
   "outputs": [],
   "source": [
    "# Edit the lines below as instructed for proper answer in this cell\n",
    "#\n",
    "# impact of discrete dividend on call and put price\n",
    "r = 0.05\n",
    "sigma = 0.15\n",
    "T = 1/2\n",
    "n = 500\n",
    "S = 50\n",
    "K = S*1.01\n",
    "div = {T/2: S*0.12}\n",
    "discdiv = np.sum([a for t,a in div.items()])\n",
    "call,put,_ = black_scholes_premium(S, K+discdiv, T, r, sigma)\n",
    "callbe = binomial_tree_divpricer(r,div,sigma,T,n,S,lambda S:max(S-K,0),american=False)\n",
    "callba = binomial_tree_divpricer(r,div,sigma,T,n,S,lambda S:max(S-K,0),american=True)\n",
    "putbe = binomial_tree_divpricer(r,div,sigma,T,n,S,lambda S:max(K-S,0),american=False)\n",
    "putba = binomial_tree_divpricer(r,div,sigma,T,n,S,lambda S:max(K-S,0),american=True)\n",
    "print(\"c=%.3f p=%.3f black formula\"%(call,put))\n",
    "print(\"c=%.3f p=%.3f binomial european\"%(callbe,putbe))\n",
    "print(\"c=%.3f p=%.3f binomial american\"%(callba,putba))\n",
    "answers[\"american calls have higher, lower or same value as european for discrete div\"] = \"\"  # <--- answer higher, lower or same\n",
    "answers[\"american puts have higher, lower or same value as european for discrete div\"] = \"\"  # <--- answer higher, lower or same"
   ]
  },
  {
   "cell_type": "markdown",
   "id": "c552fa77",
   "metadata": {},
   "source": [
    "### Deep dive in the tree with discrete dividends"
   ]
  },
  {
   "cell_type": "code",
   "execution_count": null,
   "id": "053a6aa3",
   "metadata": {},
   "outputs": [],
   "source": [
    "# Edit the lines below as instructed for proper answer in this cell\n",
    "#\n",
    "n = 5\n",
    "binomial_tree_divpricer(r,div,sigma,T,n,S,lambda S:max(S-K,0),american=False,showStatePrices=True)\n",
    "answers[\"underlying value is shown in\"] = \"\" # <-- answer either black or blue\n",
    "answers[\"underlying value drops by the dividend amount at period\"] = np.nan # <-- enter a number between 1 and 5"
   ]
  },
  {
   "cell_type": "markdown",
   "id": "04762af4",
   "metadata": {},
   "source": [
    "### Why american calls have more value with discrete dividends"
   ]
  },
  {
   "cell_type": "code",
   "execution_count": null,
   "id": "10d1a1e2",
   "metadata": {},
   "outputs": [],
   "source": [
    "# Edit the lines below as instructed for proper answer in this cell\n",
    "#\n",
    "binomial_tree_divpricer(r,div,sigma,T,n,S,lambda S:max(S-K,0),american=True,showStatePrices=True)\n",
    "answers[\"underlying values are same or higher for american than european payoff\"] = \"\" # <-- answer either same or higher\n",
    "answers[\"option value is higher for american payoff up to step\"] = np.nan # <-- enter a number between 0 and 5\n",
    "answers[\"the difference in price comes from up/down moves before/after dividend\"] = \"\" # <-- \"up/before\" or \"up/after\" or \"down/before\" or \"down/after\"\n"
   ]
  },
  {
   "cell_type": "code",
   "execution_count": null,
   "id": "449beba7",
   "metadata": {},
   "outputs": [],
   "source": [
    "# import hashlib,json\n",
    "# questionhash = {}\n",
    "# for q in answers.keys():\n",
    "#     questionhash[q] = hashlib.sha256((\"saltmfit5014\"+q).encode()).hexdigest()\n",
    "# json.dumps(questionhash)\n",
    "#\n",
    "# you need to edit this cell to edit MYID and MYKEY. running this cell will submit your answers\n",
    "#\n",
    "# uncomment line below when ready to post the answer, http status_code for succesful submission is 200\n",
    "MYID  = 'xxx@ust.hk'\n",
    "MYKEY ='yyyy'\n",
    "import requests,json\n",
    "def post_answer(question, answer):\n",
    "    questionhash = {\"one period model hedge ratio is\": \"e8c1712915edb888869fe0b5891544b188149c5bc1f0a3b3f19ba281357bcab1\", \"the value of replicating portfolio Pd is\": \"a4cfe4ba9abdbd8303659f267716737a7509f95e800b9be59f0d45eaac816633\", \"the value of risk neutral p is\": \"140866392434f7c050381ad01ecf053e0eb3ef0d157f5597eec75231584bb0b2\", \"answer either wide or narrow\": \"f0617af978f99e33c4f6f8a8395c114c47414fbdc29147d374740a75093d7d2f\", \"does this calculation confirm the intuitive answer of wide or narrows above\": \"326660c78a42c109264ccfd5134d4348b5469b957be1f6534ba4bffd50342793\", \"BSM and binomial model give different risk when fitted to same price\": \"7c1ad6ca813c8cf31ae40b859521832b4a89740a95e9cbb4969c04f8bee8440a\", \"the underlying price is shown in\": \"09a8966b255ced309435d364921d097741889a95417680f7cc9a003f262b4a16\", \"the european put value at time step 2 in the all up scenario is\": \"8161696bb1048250f25b922109d29bcc9a71b478759c2379cb961968b0a9c7a4\", \"the european put value at time step 2 in the all down scenario is\": \"57493500e350bf5ee2b127a4aab4dffdd1a37c113aa7f45859e50e5cb99ae6de\", \"the american put value at time step 2 in the all up scenario is\": \"133b2d87bc6caaa274618d9170f5dbccdac12773f900e73c08fcb9d6c4f67e43\", \"the american put value at time step 2 in the all down scenario is\": \"2dab4e5b17936ea47dfe95a5c193a7be1f2bbf1663c466f4f0fe24c7f497a080\", \"what value of n do you recommend\": \"9e61d76dc98d1d79a8f2eb265df5a535c845cacffdbf6df55ddfaffe5e725ee9\", \"american calls have higher, lower or same value as european for r>0,q>0\": \"7912a2028bb32e83371fdb36795633956bd42e836bce7e7ff4e0d61972a5c607\", \"american puts have higher, lower or same value as european for r>0,q>0\": \"9249d7f54a849b81fd08104856c13c713fb52a42c3d32051a0b7da14d8ee0a5f\", \"american calls have higher, lower or same value as european for r>0,q=0\": \"18e3d194b3dc5f5af830599d2410c8fa61ad65ebbc214087a078e1a833793f46\", \"american puts have higher, lower or same value as european for r>0,q=0\": \"9829e7f6a87d3fc5a292faea4a409f5db542725e1be454d835c67b770d0ef8c6\", \"american calls have higher, lower or same value as european for r=0,q=0\": \"b7f92307f90b95839e7893e3e04f97dba5d9f63942bcf6a8c80a7ed15a071478\", \"american puts have higher, lower or same value as european for r=0,q=0\": \"7ea712349e3a4809ae4d18384a49380480430aeab66f28e7da97657e1736ab69\", \"american calls have higher, lower or same value as european for discrete div\": \"f8317319bb79bb6136f0cbe21eaafa390bfdba4c05d4f085df41123c8dd3959e\", \"american puts have higher, lower or same value as european for discrete div\": \"f2b03cdfedcd1e8e024b10037d61b5c9f2da388c7a6a068325896f8d1bafb5bb\", \"underlying value is shown in\": \"bc6e845f9516bfdc8ebb9c4a613a29674ca357d9302e58b0a65b1658c4557d39\", \"underlying value drops by the dividend amount at period\": \"ec2a30b756c7afcc167ae821e71c2e21c8c8dcf2aeb3cd6feda2ea92ca2c5a36\", \"underlying values are same or higher for american than european payoff\": \"651d127548f78f6bbe03dc375460bf77f4c5642431f98cef5d83a71ae4027a84\", \"option value is higher for american payoff up to step\": \"d841b6574a696c4dac783ff13c1f107542cc1f6f541e561ce57a52f68b297103\", \"the difference in price comes from up/down moves before/after dividend\": \"ce5c8886bede50db3760d0fb6270b9c3c880b1ee91fbc12853b2f3d524a9b82b\"}\n",
    "    return requests.post(\"https://www.quantfinance.club/mafs5330\",data={'user':MYID,'mykey':MYKEY,'questionid':question,'answer':answer,'questionkey':questionhash[question]})\n",
    "for q,a in answers.items():\n",
    "    x = post_answer(q, a)\n",
    "    if x.status_code!=200:\n",
    "        if x.status_code==401:\n",
    "            raise Exception(\"please make sure the variables MYID and MYKEY are set\")\n",
    "        raise Exception(\"submission error with code:\",x.status_code)\n",
    "    else:\n",
    "        print(\"submitted answer to %s=%s\" % (q,str(a)))\n",
    "print(\"check your latest submitted answers on:\\nhttps://www.quantfinance.club/mfit5014_myanswers?email=%s&apikey=%s\" % (MYID,MYKEY))"
   ]
  },
  {
   "cell_type": "code",
   "execution_count": null,
   "id": "f7e31471",
   "metadata": {},
   "outputs": [],
   "source": []
  },
  {
   "cell_type": "code",
   "execution_count": null,
   "id": "572b39f0",
   "metadata": {},
   "outputs": [],
   "source": []
  },
  {
   "cell_type": "code",
   "execution_count": null,
   "id": "c5a050b7",
   "metadata": {},
   "outputs": [],
   "source": []
  },
  {
   "cell_type": "code",
   "execution_count": null,
   "id": "0ed28373",
   "metadata": {},
   "outputs": [],
   "source": []
  }
 ],
 "metadata": {
  "kernelspec": {
   "display_name": "Python 3 (ipykernel)",
   "language": "python",
   "name": "python3"
  },
  "language_info": {
   "codemirror_mode": {
    "name": "ipython",
    "version": 3
   },
   "file_extension": ".py",
   "mimetype": "text/x-python",
   "name": "python",
   "nbconvert_exporter": "python",
   "pygments_lexer": "ipython3",
   "version": "3.9.13"
  }
 },
 "nbformat": 4,
 "nbformat_minor": 5
}
